{
 "cells": [
  {
   "cell_type": "code",
   "execution_count": 146,
   "id": "0bc3d267-84e4-4741-a4f3-0dff40e91090",
   "metadata": {},
   "outputs": [],
   "source": [
    "import psycopg2\n",
    "from psycopg2 import OperationalError, ProgrammingError\n",
    "import pandas as pd"
   ]
  },
  {
   "cell_type": "code",
   "execution_count": 147,
   "id": "23fd5e7f-f628-44d2-9669-250101d59452",
   "metadata": {},
   "outputs": [],
   "source": [
    "def connect(conn_params):\n",
    "    conn = None\n",
    "    try:\n",
    "        print('Connecting to the PostgreSQL...........')\n",
    "        conn = psycopg2.connect(conn_params)\n",
    "        print(\"Connected successfully.\")\n",
    "        \n",
    "    except OperationalError as err:\n",
    "        print(\"Connection error \",err)        \n",
    "        # set the connection to 'None' in case of error\n",
    "        conn = None\n",
    "    return conn"
   ]
  },
  {
   "cell_type": "code",
   "execution_count": 148,
   "id": "2da68827-80cb-496f-b6f1-aab11cb05874",
   "metadata": {},
   "outputs": [
    {
     "name": "stdout",
     "output_type": "stream",
     "text": [
      "Connecting to the PostgreSQL...........\n",
      "Connected successfully.\n"
     ]
    }
   ],
   "source": [
    "conn = connect(\"dbname=postgres user=postgres password=ashish\")"
   ]
  },
  {
   "cell_type": "code",
   "execution_count": 149,
   "id": "6060c4da-87df-4d44-8c5a-284010e1c1c1",
   "metadata": {},
   "outputs": [],
   "source": [
    "def queryAll(cursor,q):\n",
    "    data = None\n",
    "    try:\n",
    "        cursor.execute(q)\n",
    "        data = cursor.fetchall()\n",
    "    except ProgrammingError as err:\n",
    "        print(\"Check your query String before running\")\n",
    "        print(err)\n",
    "    except:\n",
    "        print(\"Something went wrong..\")\n",
    "    return data\n",
    "\n",
    "def executeQuery(cursor,q,d = None):   \n",
    "    try:\n",
    "        if d == None:\n",
    "            cursor.execute(q)\n",
    "        else:\n",
    "            cursor.execute(q,d)\n",
    "    except ProgrammingError as err:\n",
    "        cursor.execute(\"ROLLBACK\")\n",
    "        print(\"Check your query String or data provided before running\")\n",
    "        print(err)\n",
    "    except:\n",
    "        cursor.execute(\"ROLLBACK\")\n",
    "        print(\"Something went wrong....\")\n",
    "    else:\n",
    "        print(\"Query Successful\")"
   ]
  },
  {
   "cell_type": "code",
   "execution_count": 150,
   "id": "765db3f2-dbd1-4f79-9cf9-79a402e3e2b6",
   "metadata": {},
   "outputs": [
    {
     "data": {
      "text/plain": [
       "[]"
      ]
     },
     "execution_count": 150,
     "metadata": {},
     "output_type": "execute_result"
    }
   ],
   "source": [
    "queryStr = \"SELECT * FROM dividend d\"\n",
    "# data = pd.read_sql(queryStr, conn)\n",
    "#or\n",
    "cursor = conn.cursor()\n",
    "queryAll(cursor,queryStr)"
   ]
  },
  {
   "cell_type": "code",
   "execution_count": 156,
   "id": "cdd24369-e995-43b8-bc2e-5593718f79b2",
   "metadata": {},
   "outputs": [
    {
     "data": {
      "text/plain": [
       "[('NOGOALE', 20742075)]"
      ]
     },
     "execution_count": 156,
     "metadata": {},
     "output_type": "execute_result"
    }
   ],
   "source": [
    "nextQuery = \"SELECT DISTINCT d.company,d.fiscal_year FROM dividend d ORDER BY d.company,d.fiscal_year\"\n",
    "data = queryAll(cursor,nextQuery)\n",
    "data"
   ]
  },
  {
   "cell_type": "code",
   "execution_count": 154,
   "id": "33ff6637-eabe-4b1c-8953-9cb8644bcdde",
   "metadata": {},
   "outputs": [
    {
     "name": "stdout",
     "output_type": "stream",
     "text": [
      "Query Successful\n"
     ]
    }
   ],
   "source": [
    "query = \"\"\"\n",
    "INSERT INTO dividend (company,fiscal_year) VALUES (%s,%s)\n",
    "\"\"\"\n",
    "data = (\"NOGOALE\", 20742075)\n",
    "executeQuery(cursor,query,data)"
   ]
  },
  {
   "cell_type": "code",
   "execution_count": 153,
   "id": "f358c167-7fbc-4fe8-a84e-1cbac5e1c0db",
   "metadata": {},
   "outputs": [
    {
     "name": "stdout",
     "output_type": "stream",
     "text": [
      "Query Successful\n"
     ]
    }
   ],
   "source": [
    "query = \"TRUNCATE TABLE dividend\"\n",
    "executeQuery(cursor,query)"
   ]
  },
  {
   "cell_type": "code",
   "execution_count": 155,
   "id": "b2ec998a-213c-4991-bbfd-99973eede1c5",
   "metadata": {},
   "outputs": [],
   "source": [
    "cursor.execute(\"SELECT * FROM dividend\")\n",
    "if cursor.fetchone() == None:\n",
    "    print(\"No data\")"
   ]
  },
  {
   "cell_type": "code",
   "execution_count": null,
   "id": "b9631c6a-2abc-4889-a78f-0e74a0669184",
   "metadata": {},
   "outputs": [],
   "source": []
  }
 ],
 "metadata": {
  "kernelspec": {
   "display_name": "Python 3 (ipykernel)",
   "language": "python",
   "name": "python3"
  },
  "language_info": {
   "codemirror_mode": {
    "name": "ipython",
    "version": 3
   },
   "file_extension": ".py",
   "mimetype": "text/x-python",
   "name": "python",
   "nbconvert_exporter": "python",
   "pygments_lexer": "ipython3",
   "version": "3.10.1"
  }
 },
 "nbformat": 4,
 "nbformat_minor": 5
}
